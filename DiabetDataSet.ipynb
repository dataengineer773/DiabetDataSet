{
 "cells": [
  {
   "cell_type": "code",
   "execution_count": 1,
   "id": "6e4c21d1-43b7-4f76-a7ea-99c4333bdfe7",
   "metadata": {},
   "outputs": [],
   "source": [
    "# load and summarize the diabets dataset\n",
    "from pandas import read_csv\n",
    "import matplotlib.pyplot as plt\n",
    "import pandas as pd"
   ]
  },
  {
   "cell_type": "code",
   "execution_count": 2,
   "id": "2099638e-5250-4220-ad8f-d5b1865e624d",
   "metadata": {},
   "outputs": [
    {
     "data": {
      "text/html": [
       "<div>\n",
       "<style scoped>\n",
       "    .dataframe tbody tr th:only-of-type {\n",
       "        vertical-align: middle;\n",
       "    }\n",
       "\n",
       "    .dataframe tbody tr th {\n",
       "        vertical-align: top;\n",
       "    }\n",
       "\n",
       "    .dataframe thead th {\n",
       "        text-align: right;\n",
       "    }\n",
       "</style>\n",
       "<table border=\"1\" class=\"dataframe\">\n",
       "  <thead>\n",
       "    <tr style=\"text-align: right;\">\n",
       "      <th></th>\n",
       "      <th>Pregnancies</th>\n",
       "      <th>Glucose</th>\n",
       "      <th>BloodPressure</th>\n",
       "      <th>SkinThickness</th>\n",
       "      <th>Insulin</th>\n",
       "      <th>BMI</th>\n",
       "      <th>DiabetesPedigreeFunction</th>\n",
       "      <th>Age</th>\n",
       "      <th>Outcome</th>\n",
       "    </tr>\n",
       "  </thead>\n",
       "  <tbody>\n",
       "    <tr>\n",
       "      <th>0</th>\n",
       "      <td>6</td>\n",
       "      <td>148</td>\n",
       "      <td>72</td>\n",
       "      <td>35</td>\n",
       "      <td>0</td>\n",
       "      <td>33.6</td>\n",
       "      <td>0.627</td>\n",
       "      <td>50</td>\n",
       "      <td>1</td>\n",
       "    </tr>\n",
       "    <tr>\n",
       "      <th>1</th>\n",
       "      <td>1</td>\n",
       "      <td>85</td>\n",
       "      <td>66</td>\n",
       "      <td>29</td>\n",
       "      <td>0</td>\n",
       "      <td>26.6</td>\n",
       "      <td>0.351</td>\n",
       "      <td>31</td>\n",
       "      <td>0</td>\n",
       "    </tr>\n",
       "    <tr>\n",
       "      <th>2</th>\n",
       "      <td>8</td>\n",
       "      <td>183</td>\n",
       "      <td>64</td>\n",
       "      <td>0</td>\n",
       "      <td>0</td>\n",
       "      <td>23.3</td>\n",
       "      <td>0.672</td>\n",
       "      <td>32</td>\n",
       "      <td>1</td>\n",
       "    </tr>\n",
       "    <tr>\n",
       "      <th>3</th>\n",
       "      <td>1</td>\n",
       "      <td>89</td>\n",
       "      <td>66</td>\n",
       "      <td>23</td>\n",
       "      <td>94</td>\n",
       "      <td>28.1</td>\n",
       "      <td>0.167</td>\n",
       "      <td>21</td>\n",
       "      <td>0</td>\n",
       "    </tr>\n",
       "    <tr>\n",
       "      <th>4</th>\n",
       "      <td>0</td>\n",
       "      <td>137</td>\n",
       "      <td>40</td>\n",
       "      <td>35</td>\n",
       "      <td>168</td>\n",
       "      <td>43.1</td>\n",
       "      <td>2.288</td>\n",
       "      <td>33</td>\n",
       "      <td>1</td>\n",
       "    </tr>\n",
       "    <tr>\n",
       "      <th>...</th>\n",
       "      <td>...</td>\n",
       "      <td>...</td>\n",
       "      <td>...</td>\n",
       "      <td>...</td>\n",
       "      <td>...</td>\n",
       "      <td>...</td>\n",
       "      <td>...</td>\n",
       "      <td>...</td>\n",
       "      <td>...</td>\n",
       "    </tr>\n",
       "    <tr>\n",
       "      <th>763</th>\n",
       "      <td>10</td>\n",
       "      <td>101</td>\n",
       "      <td>76</td>\n",
       "      <td>48</td>\n",
       "      <td>180</td>\n",
       "      <td>32.9</td>\n",
       "      <td>0.171</td>\n",
       "      <td>63</td>\n",
       "      <td>0</td>\n",
       "    </tr>\n",
       "    <tr>\n",
       "      <th>764</th>\n",
       "      <td>2</td>\n",
       "      <td>122</td>\n",
       "      <td>70</td>\n",
       "      <td>27</td>\n",
       "      <td>0</td>\n",
       "      <td>36.8</td>\n",
       "      <td>0.340</td>\n",
       "      <td>27</td>\n",
       "      <td>0</td>\n",
       "    </tr>\n",
       "    <tr>\n",
       "      <th>765</th>\n",
       "      <td>5</td>\n",
       "      <td>121</td>\n",
       "      <td>72</td>\n",
       "      <td>23</td>\n",
       "      <td>112</td>\n",
       "      <td>26.2</td>\n",
       "      <td>0.245</td>\n",
       "      <td>30</td>\n",
       "      <td>0</td>\n",
       "    </tr>\n",
       "    <tr>\n",
       "      <th>766</th>\n",
       "      <td>1</td>\n",
       "      <td>126</td>\n",
       "      <td>60</td>\n",
       "      <td>0</td>\n",
       "      <td>0</td>\n",
       "      <td>30.1</td>\n",
       "      <td>0.349</td>\n",
       "      <td>47</td>\n",
       "      <td>1</td>\n",
       "    </tr>\n",
       "    <tr>\n",
       "      <th>767</th>\n",
       "      <td>1</td>\n",
       "      <td>93</td>\n",
       "      <td>70</td>\n",
       "      <td>31</td>\n",
       "      <td>0</td>\n",
       "      <td>30.4</td>\n",
       "      <td>0.315</td>\n",
       "      <td>23</td>\n",
       "      <td>0</td>\n",
       "    </tr>\n",
       "  </tbody>\n",
       "</table>\n",
       "<p>768 rows × 9 columns</p>\n",
       "</div>"
      ],
      "text/plain": [
       "     Pregnancies  Glucose  BloodPressure  SkinThickness  Insulin   BMI  \\\n",
       "0              6      148             72             35        0  33.6   \n",
       "1              1       85             66             29        0  26.6   \n",
       "2              8      183             64              0        0  23.3   \n",
       "3              1       89             66             23       94  28.1   \n",
       "4              0      137             40             35      168  43.1   \n",
       "..           ...      ...            ...            ...      ...   ...   \n",
       "763           10      101             76             48      180  32.9   \n",
       "764            2      122             70             27        0  36.8   \n",
       "765            5      121             72             23      112  26.2   \n",
       "766            1      126             60              0        0  30.1   \n",
       "767            1       93             70             31        0  30.4   \n",
       "\n",
       "     DiabetesPedigreeFunction  Age  Outcome  \n",
       "0                       0.627   50        1  \n",
       "1                       0.351   31        0  \n",
       "2                       0.672   32        1  \n",
       "3                       0.167   21        0  \n",
       "4                       2.288   33        1  \n",
       "..                        ...  ...      ...  \n",
       "763                     0.171   63        0  \n",
       "764                     0.340   27        0  \n",
       "765                     0.245   30        0  \n",
       "766                     0.349   47        1  \n",
       "767                     0.315   23        0  \n",
       "\n",
       "[768 rows x 9 columns]"
      ]
     },
     "execution_count": 2,
     "metadata": {},
     "output_type": "execute_result"
    }
   ],
   "source": [
    "# load the datset\n",
    "dataset = read_csv('diabetes.csv', header=0)\n",
    "dataset"
   ]
  },
  {
   "cell_type": "code",
   "execution_count": 3,
   "id": "d05711e6-03bb-42bb-a904-c445237412b4",
   "metadata": {},
   "outputs": [
    {
     "name": "stdout",
     "output_type": "stream",
     "text": [
      "(768, 9)\n"
     ]
    }
   ],
   "source": [
    "# summarize the shape of the dataset\n",
    "print(dataset.shape)"
   ]
  },
  {
   "cell_type": "code",
   "execution_count": 4,
   "id": "fe9863c6-cf6c-49ac-bc2d-95aee949e6b8",
   "metadata": {},
   "outputs": [
    {
     "name": "stdout",
     "output_type": "stream",
     "text": [
      "       Pregnancies     Glucose  BloodPressure  SkinThickness     Insulin  \\\n",
      "count   768.000000  768.000000     768.000000     768.000000  768.000000   \n",
      "mean      3.845052  120.894531      69.105469      20.536458   79.799479   \n",
      "std       3.369578   31.972618      19.355807      15.952218  115.244002   \n",
      "min       0.000000    0.000000       0.000000       0.000000    0.000000   \n",
      "25%       1.000000   99.000000      62.000000       0.000000    0.000000   \n",
      "50%       3.000000  117.000000      72.000000      23.000000   30.500000   \n",
      "75%       6.000000  140.250000      80.000000      32.000000  127.250000   \n",
      "max      17.000000  199.000000     122.000000      99.000000  846.000000   \n",
      "\n",
      "              BMI  DiabetesPedigreeFunction         Age     Outcome  \n",
      "count  768.000000                768.000000  768.000000  768.000000  \n",
      "mean    31.992578                  0.471876   33.240885    0.348958  \n",
      "std      7.884160                  0.331329   11.760232    0.476951  \n",
      "min      0.000000                  0.078000   21.000000    0.000000  \n",
      "25%     27.300000                  0.243750   24.000000    0.000000  \n",
      "50%     32.000000                  0.372500   29.000000    0.000000  \n",
      "75%     36.600000                  0.626250   41.000000    1.000000  \n",
      "max     67.100000                  2.420000   81.000000    1.000000  \n"
     ]
    }
   ],
   "source": [
    "# summarize each variable\n",
    "print(dataset.describe())"
   ]
  },
  {
   "cell_type": "code",
   "execution_count": 5,
   "id": "d5aaf4a2-8af9-4e4f-92a5-c8b4095c93fb",
   "metadata": {},
   "outputs": [
    {
     "data": {
      "text/plain": [
       "[None, None, None, None, None, None, None, None, None]"
      ]
     },
     "execution_count": 5,
     "metadata": {},
     "output_type": "execute_result"
    },
    {
     "data": {
      "image/png": "[encoded data removed]",
      "text/plain": [
       "<Figure size 432x288 with 9 Axes>"
      ]
     },
     "metadata": {
      "needs_background": "light"
     },
     "output_type": "display_data"
    }
   ],
   "source": [
    "# histogram of the variables \n",
    "fig = dataset.hist(xlabelsize=4, ylabelsize=4)\n",
    "[x.title.set_size(4) for x in fig.ravel()]"
   ]
  },
  {
   "cell_type": "code",
   "execution_count": 6,
   "id": "a2bec8b8-0176-4610-945e-cedb17969048",
   "metadata": {},
   "outputs": [],
   "source": [
    "# now we fit and evaluate a machin learnng algorithm model and use k-nearest neighbor algorihm\n",
    "from numpy import mean\n",
    "from numpy import std\n",
    "from sklearn.model_selection import cross_val_score\n",
    "from sklearn.model_selection import RepeatedStratifiedKFold\n",
    "from sklearn.neighbors import KNeighborsClassifier\n",
    "from sklearn.preprocessing import LabelEncoder"
   ]
  },
  {
   "cell_type": "code",
   "execution_count": 7,
   "id": "15af672f-235b-4ee2-b1d1-717d81a7a703",
   "metadata": {},
   "outputs": [],
   "source": [
    "data = dataset.values"
   ]
  },
  {
   "cell_type": "code",
   "execution_count": 8,
   "id": "8a684ce5-02a2-4ad2-9ee3-bb78f0ca9bf5",
   "metadata": {},
   "outputs": [],
   "source": [
    "# separate into input and output columns\n",
    "X, y = data[:, :-1], data[:, -1]"
   ]
  },
  {
   "cell_type": "code",
   "execution_count": 9,
   "id": "37c5bcb2-a877-474c-8873-e37d9758eb02",
   "metadata": {},
   "outputs": [],
   "source": [
    "# ensure inputs are fleats and output is an integer label\n",
    "X = X.astype('float32')\n",
    "y = LabelEncoder().fit_transform(y.astype('str'))"
   ]
  },
  {
   "cell_type": "code",
   "execution_count": 10,
   "id": "3a9848f7-5864-4fd1-a4a6-d8057f2eabf6",
   "metadata": {},
   "outputs": [],
   "source": [
    "#  define and the configure the model\n",
    "model = KNeighborsClassifier()"
   ]
  },
  {
   "cell_type": "code",
   "execution_count": 11,
   "id": "64b8a5dc-e198-4483-86b5-208a969f8414",
   "metadata": {},
   "outputs": [],
   "source": [
    "# evaluate the model\n",
    "cv = RepeatedStratifiedKFold(n_splits=10, n_repeats=3, random_state=1)"
   ]
  },
  {
   "cell_type": "code",
   "execution_count": 12,
   "id": "54d8b4a1-0dc9-48e4-8322-0e71c1628057",
   "metadata": {},
   "outputs": [],
   "source": [
    "n_scores = cross_val_score(model, X, y, scoring='accuracy', cv=cv, n_jobs=-1)"
   ]
  },
  {
   "cell_type": "code",
   "execution_count": 13,
   "id": "1c77af6c-369c-4328-9f50-f67e9c7ea98f",
   "metadata": {},
   "outputs": [
    {
     "name": "stdout",
     "output_type": "stream",
     "text": [
      "accuracy: 0.717 (0.040)\n"
     ]
    }
   ],
   "source": [
    "print('accuracy: %.3f (%.3f)' % (mean(n_scores), std(n_scores)))"
   ]
  },
  {
   "cell_type": "code",
   "execution_count": 14,
   "id": "08f0960e-b998-4103-a7d0-3e57677a0525",
   "metadata": {},
   "outputs": [],
   "source": [
    "# we can try MinMaxScaler Transform to cpate the accuarcy\n",
    "# retrieve just the numeric input values\n",
    "data = dataset.values[:, :-1]"
   ]
  },
  {
   "cell_type": "code",
   "execution_count": 15,
   "id": "834ad107-7cd9-47cc-ac72-9b92cd769afb",
   "metadata": {},
   "outputs": [],
   "source": [
    "from sklearn .preprocessing import MinMaxScaler\n",
    "from pandas import DataFrame\n",
    "from matplotlib import pyplot"
   ]
  },
  {
   "cell_type": "code",
   "execution_count": 16,
   "id": "015529c9-31b9-4955-9c18-088d19f11754",
   "metadata": {},
   "outputs": [],
   "source": [
    "# perform a roboust scaler transform of the dataset\n",
    "trans = MinMaxScaler()\n",
    "data = trans.fit_transform(data)"
   ]
  },
  {
   "cell_type": "code",
   "execution_count": 17,
   "id": "13f55dee-2594-4bf6-a5cb-9998b88dbcd9",
   "metadata": {},
   "outputs": [],
   "source": [
    "# convert the array back to a dataframe\n",
    "dataset = DataFrame(data)"
   ]
  },
  {
   "cell_type": "code",
   "execution_count": 18,
   "id": "30aaa2da-9417-44d5-a1aa-aac27feb4caf",
   "metadata": {},
   "outputs": [
    {
     "name": "stdout",
     "output_type": "stream",
     "text": [
      "                0           1           2           3           4           5  \\\n",
      "count  768.000000  768.000000  768.000000  768.000000  768.000000  768.000000   \n",
      "mean     0.226180    0.607510    0.566438    0.207439    0.094326    0.476790   \n",
      "std      0.198210    0.160666    0.158654    0.161134    0.136222    0.117499   \n",
      "min      0.000000    0.000000    0.000000    0.000000    0.000000    0.000000   \n",
      "25%      0.058824    0.497487    0.508197    0.000000    0.000000    0.406855   \n",
      "50%      0.176471    0.587940    0.590164    0.232323    0.036052    0.476900   \n",
      "75%      0.352941    0.704774    0.655738    0.323232    0.150414    0.545455   \n",
      "max      1.000000    1.000000    1.000000    1.000000    1.000000    1.000000   \n",
      "\n",
      "                6           7  \n",
      "count  768.000000  768.000000  \n",
      "mean     0.168179    0.204015  \n",
      "std      0.141473    0.196004  \n",
      "min      0.000000    0.000000  \n",
      "25%      0.070773    0.050000  \n",
      "50%      0.125747    0.133333  \n",
      "75%      0.234095    0.333333  \n",
      "max      1.000000    1.000000  \n"
     ]
    }
   ],
   "source": [
    "# summarize\n",
    "print(dataset.describe())"
   ]
  },
  {
   "cell_type": "code",
   "execution_count": 19,
   "id": "ba0549f7-8c41-49f2-a804-cbd5be9784fe",
   "metadata": {},
   "outputs": [
    {
     "data": {
      "text/plain": [
       "[None, None, None, None, None, None, None, None, None]"
      ]
     },
     "execution_count": 19,
     "metadata": {},
     "output_type": "execute_result"
    },
    {
     "data": {
      "image/png": "[encoded data removed]",
      "text/plain": [
       "<Figure size 432x288 with 9 Axes>"
      ]
     },
     "metadata": {
      "needs_background": "light"
     },
     "output_type": "display_data"
    }
   ],
   "source": [
    "# histogam of the varibale \n",
    "fif = dataset.hist(xlabelsize=4, ylabelsize=4)\n",
    "[x.title.set_size(4) for x in fig.ravel()]"
   ]
  },
  {
   "cell_type": "code",
   "execution_count": 20,
   "id": "5e0fa51b-1bc7-4072-a2af-1288f28ae4a2",
   "metadata": {},
   "outputs": [],
   "source": [
    "# we can confirm that the minimum values are not and one respectively as we expected\n",
    "from sklearn.pipeline import Pipeline"
   ]
  },
  {
   "cell_type": "code",
   "execution_count": 21,
   "id": "d4ee08bb-e381-4d01-b055-c67255301467",
   "metadata": {},
   "outputs": [],
   "source": [
    "# lets try to evaluate KNN Model \n",
    "#define the pipeline\n",
    "trans =MinMaxScaler()\n",
    "model = KNeighborsClassifier()\n",
    "pipeline = Pipeline(steps=[('t', trans), ('m', model)])"
   ]
  },
  {
   "cell_type": "code",
   "execution_count": 22,
   "id": "71aedaaf-09c3-4da7-ac34-163ca368fb03",
   "metadata": {},
   "outputs": [],
   "source": [
    "# evaluate the piprline\n",
    "cv = RepeatedStratifiedKFold(n_splits=10, n_repeats=3, random_state=1)\n",
    "n_scores = cross_val_score(pipeline,X, y, scoring='accuracy', cv=cv, n_jobs=-1)"
   ]
  },
  {
   "cell_type": "code",
   "execution_count": 23,
   "id": "df92777e-8e11-4c41-9072-ca8c991911c4",
   "metadata": {},
   "outputs": [
    {
     "name": "stdout",
     "output_type": "stream",
     "text": [
      "Accuracy: 0.739 (0.053)\n"
     ]
    }
   ],
   "source": [
    "# report pipeline performance\n",
    "print('Accuracy: %.3f (%.3f)' % (mean(n_scores), std(n_scores))) "
   ]
  },
  {
   "cell_type": "code",
   "execution_count": 24,
   "id": "2f44823b-2aea-4b66-9395-500bc870da42",
   "metadata": {},
   "outputs": [],
   "source": [
    "# now we try to StandardScaler Transform, we will use the defult configuration and scale \n",
    "# values to subtract the mean to center them on 0.0 and divide by the standard deviation to give the standard deviation of1.0\n",
    "from sklearn.preprocessing import StandardScaler"
   ]
  },
  {
   "cell_type": "code",
   "execution_count": 25,
   "id": "5a27ebd3-0e2c-4787-91c7-56b491a53554",
   "metadata": {},
   "outputs": [],
   "source": [
    "# perform a roboust scaler transform of the dataset\n",
    "trans = StandardScaler()\n",
    "data = trans.fit_transform(data)"
   ]
  },
  {
   "cell_type": "code",
   "execution_count": 26,
   "id": "575ecd91-945a-455a-b272-310b9b10160a",
   "metadata": {},
   "outputs": [],
   "source": [
    "# retrieve just the numeric input values\n",
    "data = dataset.values[:, :-1]"
   ]
  },
  {
   "cell_type": "code",
   "execution_count": 27,
   "id": "c7181c68-3709-4662-be84-f54ab038b576",
   "metadata": {},
   "outputs": [],
   "source": [
    "# convert the array back to a dataframe\n",
    "dataset = DataFrame(data)"
   ]
  },
  {
   "cell_type": "code",
   "execution_count": 28,
   "id": "1c63ae50-2327-4180-b143-6b65e671114d",
   "metadata": {},
   "outputs": [
    {
     "name": "stdout",
     "output_type": "stream",
     "text": [
      "                0           1           2           3           4           5  \\\n",
      "count  768.000000  768.000000  768.000000  768.000000  768.000000  768.000000   \n",
      "mean     0.226180    0.607510    0.566438    0.207439    0.094326    0.476790   \n",
      "std      0.198210    0.160666    0.158654    0.161134    0.136222    0.117499   \n",
      "min      0.000000    0.000000    0.000000    0.000000    0.000000    0.000000   \n",
      "25%      0.058824    0.497487    0.508197    0.000000    0.000000    0.406855   \n",
      "50%      0.176471    0.587940    0.590164    0.232323    0.036052    0.476900   \n",
      "75%      0.352941    0.704774    0.655738    0.323232    0.150414    0.545455   \n",
      "max      1.000000    1.000000    1.000000    1.000000    1.000000    1.000000   \n",
      "\n",
      "                6  \n",
      "count  768.000000  \n",
      "mean     0.168179  \n",
      "std      0.141473  \n",
      "min      0.000000  \n",
      "25%      0.070773  \n",
      "50%      0.125747  \n",
      "75%      0.234095  \n",
      "max      1.000000  \n"
     ]
    }
   ],
   "source": [
    "# summarize\n",
    "print(dataset.describe())"
   ]
  },
  {
   "cell_type": "markdown",
   "id": "b1d2f30e-a14d-49ab-ad41-75d5f0d766fd",
   "metadata": {},
   "source": [
    "# histogam of the varibale \n",
    "fif = dataset.hist(xlabelsize=4, ylabelsize=4)\n",
    "[x.title.set_size(4) for x in fig.ravel()]"
   ]
  },
  {
   "cell_type": "code",
   "execution_count": 29,
   "id": "edf82503-c910-417f-a6bf-6f8a90d86485",
   "metadata": {},
   "outputs": [],
   "source": [
    "# evaluate the smae KNN Model\n",
    "# define the pipeline\n",
    "trans = StandardScaler()\n",
    "model = KNeighborsClassifier()\n",
    "pipeline = Pipeline(steps=[('t', trans), ('m', model)])"
   ]
  },
  {
   "cell_type": "code",
   "execution_count": 30,
   "id": "3c8dd2fa-6409-48e8-8aba-82342ab46081",
   "metadata": {},
   "outputs": [],
   "source": [
    "# evaluate the pipeline\n",
    "cv = RepeatedStratifiedKFold(n_splits=10, n_repeats=3, random_state=1)\n",
    "n_scores = cross_val_score(pipeline,X, y, scoring='accuracy', cv=cv, n_jobs=-1)"
   ]
  },
  {
   "cell_type": "code",
   "execution_count": 31,
   "id": "a1b04ea8-f4dd-42da-895e-559ce0ce8002",
   "metadata": {},
   "outputs": [
    {
     "name": "stdout",
     "output_type": "stream",
     "text": [
      "Accuracy: 0.741 (0.050)\n"
     ]
    }
   ],
   "source": [
    "# report pipeline performance\n",
    "print('Accuracy: %.3f (%.3f)' % (mean(n_scores), std(n_scores))) "
   ]
  },
  {
   "cell_type": "markdown",
   "id": "20f3c248-9f1f-4449-9005-66148fafb9da",
   "metadata": {},
   "source": [
    "# we can see that the StandardScaler transform results in a lift in performnace from 71.7 percent.\n",
    "# without transform to about 74.1 perecnt with the transform, slightly higher than the using MinMaxScaler that achived 73.9"
   ]
  }
 ],
 "metadata": {
  "kernelspec": {
   "display_name": "Python 3 (ipykernel)",
   "language": "python",
   "name": "python3"
  },
  "language_info": {
   "codemirror_mode": {
    "name": "ipython",
    "version": 3
   },
   "file_extension": ".py",
   "mimetype": "text/x-python",
   "name": "python",
   "nbconvert_exporter": "python",
   "pygments_lexer": "ipython3",
   "version": "3.10.12"
  }
 },
 "nbformat": 4,
 "nbformat_minor": 5
}
